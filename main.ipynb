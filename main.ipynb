{
 "cells": [
  {
   "cell_type": "code",
   "execution_count": null,
   "metadata": {},
   "outputs": [],
   "source": [
    "import os\n",
    "from solders.keypair import Keypair\n",
    "from core.rpc import SolanaRPC\n",
    "from base58 import b58decode \n",
    "\n",
    "# Initialize RPC client\n",
    "rpc = SolanaRPC()\n",
    "\n",
    "# Create wallet keypair\n",
    "wallet = Keypair.from_bytes(b58decode(os.getenv(\"PRIVATE_KEY_BASE58\", \"\")))\n",
    "\n",
    "# Check balance\n",
    "balance = rpc.get_balance(public_key=str(wallet.pubkey()))\n",
    "print(f\"Wallet balance: {balance} lamports\")\n"
   ]
  },
  {
   "cell_type": "code",
   "execution_count": null,
   "metadata": {},
   "outputs": [],
   "source": [
    "from core.jito import test_connection\n",
    "\n",
    "BLOCK_ENGINE_URL = \"https://mainnet.block-engine.jito.wtf\"\n",
    "test_connection(BLOCK_ENGINE_URL)\n",
    "\n"
   ]
  },
  {
   "cell_type": "code",
   "execution_count": null,
   "metadata": {},
   "outputs": [],
   "source": [
    "import requests\n",
    "\n",
    "def get_raydium_price(timeout=5):\n",
    "    url = \"https://api.raydium.io/pairs\"\n",
    "    try:\n",
    "        response = requests.get(url, timeout=timeout)\n",
    "        response.raise_for_status()  # Raise an error on bad status codes\n",
    "    except Exception as e:\n",
    "        print(\"Error fetching Raydium data:\", e)\n",
    "        return None\n",
    "\n",
    "    data = response.json()\n",
    "    # Adjust the pair name as needed (here we check for WSOL/USDT)\n",
    "    for pair in data:\n",
    "        if pair.get(\"name\") == \"WSOL/USDT\":\n",
    "            return pair.get(\"price\")\n",
    "    return None\n",
    "\n",
    "if __name__ == \"__main__\":\n",
    "    price = get_raydium_price()\n",
    "    if price is not None:\n",
    "        print(f\"The current WSOL/USDT price on Raydium is: {price}\")\n",
    "    else:\n",
    "        print(\"WSOL/USDT pair not found or an error occurred.\")\n"
   ]
  },
  {
   "cell_type": "code",
   "execution_count": null,
   "metadata": {},
   "outputs": [
    {
     "name": "stdout",
     "output_type": "stream",
     "text": [
      "Error fetching price data: 429 Client Error:  for url: https://api.expand.network/dex/getprice?dexId=2700&path=So11111111111111111111111111111111111111112%2CEPjFWdd5AufqSSqeM2qN1xzybapC8G4wEGGkZwyTDt1v&amountIn=1000000000\n",
      "Failed to retrieve the quote.\n"
     ]
    }
   ],
   "source": [
    "import requests\n",
    "\n",
    "def get_wsol_usdc_quote(api_key: str, dex_id: str, timeout=5):\n",
    "    \"\"\"\n",
    "    Fetch a WSOL -> USDC price quote via Expand Network's getprice endpoint,\n",
    "    using the specified dex_id (Raydium = 2700, Orca = 2600).\n",
    "    Returns the USDC float amount for 1 SOL, or None if an error occurs.\n",
    "    \"\"\"\n",
    "    url = \"https://api.expand.network/dex/getprice\"\n",
    "\n",
    "    headers = {\n",
    "        \"x-api-key\": api_key\n",
    "    }\n",
    "\n",
    "    # WSOL mint: So11111111111111111111111111111111111111112\n",
    "    # USDC mint: EPjFWdd5AufqSSqeM2qN1xzybapC8G4wEGGkZwyTDt1v\n",
    "    # 1 SOL in lamports = 1e9\n",
    "    params = {\n",
    "        \"dexId\": dex_id,\n",
    "        \"path\": \"So11111111111111111111111111111111111111112,EPjFWdd5AufqSSqeM2qN1xzybapC8G4wEGGkZwyTDt1v\",\n",
    "        \"amountIn\": \"1000000000\"  # 1 SOL in lamports\n",
    "    }\n",
    "\n",
    "    try:\n",
    "        response = requests.get(url, params=params, headers=headers, timeout=timeout)\n",
    "        response.raise_for_status()\n",
    "    except Exception as e:\n",
    "        print(f\"[DEX {dex_id}] Error fetching price data:\", e)\n",
    "        return None\n",
    "\n",
    "    data = response.json()\n",
    "    if data.get(\"status\") != 200 or \"data\" not in data:\n",
    "        print(f\"[DEX {dex_id}] Unexpected response:\", data)\n",
    "        return None\n",
    "\n",
    "    # amountsOut[1] should be the raw USDC amount\n",
    "    amounts_out = data[\"data\"].get(\"amountsOut\")\n",
    "    if not amounts_out or len(amounts_out) < 2:\n",
    "        print(f\"[DEX {dex_id}] Missing amountsOut data:\", data)\n",
    "        return None\n",
    "\n",
    "    usdc_raw = float(amounts_out[1])\n",
    "    # USDC has 6 decimals on Solana\n",
    "    usdc_human = usdc_raw / 1e6\n",
    "    return usdc_human\n",
    "\n",
    "if __name__ == \"__main__\":\n",
    "    # Replace with your actual Expand Network API key\n",
    "    API_KEY = \"BZfVPGatqf9EbcZHU3ptJ6CJI16Al4tE3RdbsZl8\"\n",
    "\n",
    "    # Raydium = 2700\n",
    "    raydium_quote = get_wsol_usdc_quote(API_KEY, \"2700\")\n",
    "    # Orca = 2600\n",
    "    orca_quote = get_wsol_usdc_quote(API_KEY, \"2600\")\n",
    "\n",
    "    if raydium_quote is not None:\n",
    "        print(f\"1 WSOL is approximately {raydium_quote:.6f} USDC on Raydium.\")\n",
    "    else:\n",
    "        print(\"Failed to retrieve Raydium quote.\")\n",
    "\n",
    "    if orca_quote is not None:\n",
    "        print(f\"1 WSOL is approximately {orca_quote:.6f} USDC on Orca.\")\n",
    "    else:\n",
    "        print(\"Failed to retrieve Orca quote.\")\n"
   ]
  }
 ],
 "metadata": {
  "kernelspec": {
   "display_name": "crypto",
   "language": "python",
   "name": "python3"
  },
  "language_info": {
   "codemirror_mode": {
    "name": "ipython",
    "version": 3
   },
   "file_extension": ".py",
   "mimetype": "text/x-python",
   "name": "python",
   "nbconvert_exporter": "python",
   "pygments_lexer": "ipython3",
   "version": "3.11.11"
  }
 },
 "nbformat": 4,
 "nbformat_minor": 2
}
